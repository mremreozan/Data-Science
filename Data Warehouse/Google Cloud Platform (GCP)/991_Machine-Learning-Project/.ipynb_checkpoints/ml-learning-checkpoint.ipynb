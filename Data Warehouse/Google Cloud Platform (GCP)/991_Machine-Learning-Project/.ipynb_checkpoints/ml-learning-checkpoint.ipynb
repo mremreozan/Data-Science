{
 "cells": [
  {
   "cell_type": "markdown",
   "metadata": {},
   "source": [
    "#standardSQL\n",
    "SELECT\n",
    "  departure_delay,\n",
    "  COUNT(1) AS num_flights,\n",
    "  APPROX_QUANTILES(arrival_delay, 10) AS arrival_delay_quantiles\n",
    "FROM\n",
    "  `bigquery-samples.airline_ontime_data.flights`\n",
    "GROUP BY\n",
    "  departure_delay\n",
    "HAVING\n",
    "  num_flights > 100\n",
    "ORDER BY\n",
    "  departure_delay ASC"
   ]
  },
  {
   "cell_type": "markdown",
   "metadata": {},
   "source": [
    "1) bigquery\n",
    "So we are selecting the departure delay, the number of flights at that departure delay, and then the deciles of the arrival delay. Our question may be that What is the median arrival delay for flights left 35 minutes early? And we're splitting it into the zeroth percentile, tenth percentile, all the way up to the 100 percentile. \n",
    "We're getting this from a public dataset of flights.\n",
    "we get a result within seconds.\n",
    "So if we look at these data in a summary, we see the departure delay, negative 37.\n",
    "We get 107 flights that left 37 minutes early. And these are the approximate deciles of when those flights arrived.\n",
    "So in the zero decile, negative 66. The tenth, negative 44. So that actually arrived 44 minutes early. "
   ]
  },
  {
   "cell_type": "markdown",
   "metadata": {},
   "source": [
    "gecis) now we can actually do some analysis on those aggregates in our AI platform notebooks. "
   ]
  },
  {
   "cell_type": "markdown",
   "metadata": {},
   "source": [
    "2) notebook"
   ]
  },
  {
   "cell_type": "markdown",
   "metadata": {},
   "source": [
    "a)  I need to add my query and to import the Google Cloud platform Python library to work within BigQuery seamlessly."
   ]
  },
  {
   "cell_type": "code",
   "execution_count": null,
   "metadata": {},
   "outputs": [],
   "source": [
    "query=\"\"\"\n",
    "SELECT\n",
    "  departure_delay,\n",
    "  COUNT(1) AS num_flights,\n",
    "  APPROX_QUANTILES(arrival_delay, 10) AS arrival_delay_deciles\n",
    "FROM\n",
    "  `bigquery-samples.airline_ontime_data.flights`\n",
    "GROUP BY\n",
    "  departure_delay\n",
    "HAVING\n",
    "  num_flights > 100\n",
    "ORDER BY\n",
    "  departure_delay ASC\n",
    "\"\"\"\n",
    "\n",
    "from google.cloud import bigquery"
   ]
  },
  {
   "cell_type": "markdown",
   "metadata": {},
   "source": [
    "I have to put my wuery results into a Panda's data frame\n",
    "df.head, that's going to give me the first five rows of what's in that data frame.\n",
    "And so, each of these rows is a delayed departure by minute. So negative 37, negative 36, negative 35, all the way down. Number of flights, and then those deciles within those flights."
   ]
  },
  {
   "cell_type": "code",
   "execution_count": null,
   "metadata": {},
   "outputs": [],
   "source": [
    "df = bigquery.Client().query(query).to_dataframe()\n",
    "df.head()"
   ]
  },
  {
   "cell_type": "markdown",
   "metadata": {},
   "source": [
    " and then, within each column is going to be the decile zero to 100% of delay for arrival for that flight."
   ]
  },
  {
   "cell_type": "code",
   "execution_count": null,
   "metadata": {},
   "outputs": [],
   "source": [
    "import pandas as pd\n",
    "percentiles = df['arrival_delay_deciles'].apply(pd.Series)\n",
    "percentiles = percentiles.rename(columns = lambda x : str(x*10) + \"%\")\n",
    "df = pd.concat([df['departure_delay'], percentiles], axis=1)\n",
    "df.head()"
   ]
  },
  {
   "cell_type": "markdown",
   "metadata": {},
   "source": [
    "and I want to plot this in the notebook. And I'm only going to look at departure delays from between 30 minutes early and 15 minutes late. \n",
    "As flights are delayed, they tend to be, if they're more late, they're going to arrive late\n",
    "But you probably expected this sense. What I really want to highlight in this lab is this pattern of doing some kind of large scale data analysis over 70 million rows in BigQuery, generating those aggregates using the serverless technology on BigQuery."
   ]
  },
  {
   "cell_type": "code",
   "execution_count": null,
   "metadata": {},
   "outputs": [],
   "source": [
    "without_extremes = df.drop(['0%', '100%'], 1)\n",
    "without_extremes.plot(x='departure_delay', xlim=(-30,50), ylim=(-50,50));"
   ]
  }
 ],
 "metadata": {
  "kernelspec": {
   "display_name": "Python 3",
   "language": "python",
   "name": "python3"
  },
  "language_info": {
   "codemirror_mode": {
    "name": "ipython",
    "version": 3
   },
   "file_extension": ".py",
   "mimetype": "text/x-python",
   "name": "python",
   "nbconvert_exporter": "python",
   "pygments_lexer": "ipython3",
   "version": "3.7.3"
  }
 },
 "nbformat": 4,
 "nbformat_minor": 2
}
